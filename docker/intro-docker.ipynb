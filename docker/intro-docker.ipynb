{
 "cells": [
  {
   "cell_type": "markdown",
   "metadata": {
    "slideshow": {
     "slide_type": "slide"
    }
   },
   "source": [
    "<img src=\"imagenes/MCDLogo.png\" width=\"200\">\n",
    "<img src=\"imagenes/letragrama-rgb-150.jpg\" width=\"200\">\n",
    "\n",
    "## ¿Que es *Docker* y cómo se usa?\n",
    "\n",
    "### Herramientas para Ciencia de Datos\n",
    "\n",
    "#### 9 de abril de 2021 (actualizado 4 de julio 2022)\n",
    "\n",
    "[Julio Waissman](http://mat.uson.mx/~juliowaissman/)"
   ]
  },
  {
   "cell_type": "markdown",
   "metadata": {
    "slideshow": {
     "slide_type": "slide"
    }
   },
   "source": [
    "## ¿Que vamos a ver?\n",
    "\n",
    "- ¿Que es un contenedor?\n",
    "- Aspectos generales de *Docker*\n",
    "- Instalación de *Docker CE*\n",
    "- Uso básico de la CLI\n",
    "- Como hacer una imágen propia (Dockerfile)\n"
   ]
  },
  {
   "cell_type": "markdown",
   "metadata": {
    "slideshow": {
     "slide_type": "slide"
    }
   },
   "source": [
    "## Integración continua\n",
    "\n",
    "![](imagenes/integ-continua.png)"
   ]
  },
  {
   "cell_type": "markdown",
   "metadata": {
    "slideshow": {
     "slide_type": "subslide"
    }
   },
   "source": [
    "## Motivación: Aplicaciones monolíticas\n",
    "\n",
    "- Desarrollo lento\n",
    "\n",
    "- Desperdicio de recursos\n",
    "\n",
    "- Diferencias en desarrollo y producción\n",
    "\n",
    "- Escala mal, dificil de migrar\n"
   ]
  },
  {
   "cell_type": "markdown",
   "metadata": {
    "slideshow": {
     "slide_type": "subslide"
    }
   },
   "source": [
    "## Solución: Máquinas virtuales\n",
    "\n",
    "<img src=\"imagenes/VM.png\" width=\"400\">\n",
    "\n",
    "Aislamiento, seguridad, portabilidad,... lento\n",
    "\n"
   ]
  },
  {
   "cell_type": "markdown",
   "metadata": {
    "slideshow": {
     "slide_type": "subslide"
    }
   },
   "source": [
    "## Solución: Contenedores\n",
    "\n",
    "<img src=\"imagenes/vm-c.png\" width=\"820\"> \n",
    "    \n",
    "Se pierde en aislamiento, se gana en flexibilidad\n"
   ]
  },
  {
   "cell_type": "markdown",
   "metadata": {
    "slideshow": {
     "slide_type": "subslide"
    }
   },
   "source": [
    "## Contenedores para desarrollo/producción\n",
    "\n",
    "<p><img src=\"imagenes/vm-c2.png\" width=\"820\"> \n",
    "    \n"
   ]
  },
  {
   "cell_type": "markdown",
   "metadata": {
    "slideshow": {
     "slide_type": "subslide"
    }
   },
   "source": [
    "## Contenedores para desarrollo/producción\n",
    "\n",
    "- Mismas dependencias para todos los desarrolladores\n",
    "- Cada proyecto tiene sus propias dependencias\n",
    "- Mismo comportamiento en desarrollo y en producción\n",
    "- Se configura una vez\n",
    "- Se aislan aplicaciones en producción \n"
   ]
  },
  {
   "cell_type": "markdown",
   "metadata": {
    "slideshow": {
     "slide_type": "slide"
    }
   },
   "source": [
    "## Componentes bácicos de Docker\n",
    "\n",
    "<img src=\"imagenes/con-img.png\" width=\"700\">"
   ]
  },
  {
   "cell_type": "markdown",
   "metadata": {
    "slideshow": {
     "slide_type": "subslide"
    }
   },
   "source": [
    "## Arquitectura general de  Docker\n",
    "\n",
    "<img src=\"imagenes/daemon.png\" width=\"800\"> \n",
    " "
   ]
  },
  {
   "cell_type": "markdown",
   "metadata": {
    "slideshow": {
     "slide_type": "slide"
    }
   },
   "source": [
    "## Instalemos Docker\n",
    "\n",
    "- Seguir el proceso de instalación dependiendo la plataforma:\n",
    "    - [Docker Desktop para MacOS](https://docs.docker.com/desktop/mac/install/)\n",
    "    - [Docker Desktop para Windows](https://docs.docker.com/desktop/windows/install/) \n",
    "    - [Docker Desktop para Linux](https://docs.docker.com/desktop/linux/install/) \n",
    "    - [Docker Desktop Linux user manual](https://docs.docker.com/desktop/linux/)\n",
    "    \n",
    "Inclusive para Linux, es mejor instalar el nuevo *Docker Desktop* porque resuelve problemas de seguridad, aunque consume más recursos."
   ]
  },
  {
   "cell_type": "markdown",
   "metadata": {
    "slideshow": {
     "slide_type": "subslide"
    }
   },
   "source": [
    "## Para probar la instalación\n",
    "\n",
    "\n",
    "```bash\n",
    "\n",
    "$ docker version\n",
    "\n",
    "$ docker info\n",
    "\n",
    "$ docker run hello-world\n",
    "\n",
    "$ docker pull ubuntu\n",
    "\n",
    "$ docker run -it --rm ubuntu:latest\n",
    "```"
   ]
  },
  {
   "cell_type": "markdown",
   "metadata": {
    "slideshow": {
     "slide_type": "slide"
    }
   },
   "source": [
    "## Utilizar imágenes desarrolladas por otros\n",
    "\n",
    "- Desgargandolas de [dockerHub](https://hub.docker.com/)\n",
    "\n",
    "    - Buscandolas con google, bing, DuckDuckGo,...\n",
    "\n",
    "    - Usando la linea de comando\n",
    "    \n",
    "```bash\n",
    "$ docker search --help\n",
    "\n",
    "$ docker search XXXX\n",
    "```\n",
    "\n",
    "- Una vez que se sabe cual es la imágen que nos interesa (y el **tag**), se rescarga con el comando\n",
    "\n",
    "```bash\n",
    "$ docker pull usuario/imagen:tag\n",
    "```\n",
    " \n",
    "*Ejercicio*: ¿Una imagen para ejecturar RStudio?\n",
    "\n",
    "    "
   ]
  },
  {
   "cell_type": "markdown",
   "metadata": {
    "slideshow": {
     "slide_type": "subslide"
    }
   },
   "source": [
    "## Operaciones en imágenes\n",
    "\n",
    "```bash\n",
    "$ docker image --help\n",
    "```\n",
    "\n",
    "- Listar\n",
    "\n",
    "```bash\n",
    "$ docker image ls\n",
    "$ docker image ls -a\n",
    "```\n",
    "\n",
    "- Eliminar\n",
    "\n",
    "```bash\n",
    "$ docker image rm (nombre o id)\n",
    "```\n",
    "\n",
    "- Renombrar\n",
    "\n",
    "```bash\n",
    "$ docker tag (ImagenFuente)[:tag] (ImagenDestino)[:tag]\n",
    "```"
   ]
  },
  {
   "cell_type": "markdown",
   "metadata": {
    "slideshow": {
     "slide_type": "subslide"
    }
   },
   "source": [
    "## Creando contenedores\n",
    "\n",
    "```bash\n",
    "$ docker run --help\n",
    "```\n",
    "\n",
    "- Ejemplos comunes\n",
    "\n",
    "```sh\n",
    "$ docker run -it --name (nombre-contenedor) (nombre-imagen)\n",
    "\n",
    "$ docker run -dt --name (nombre-contenedor) (nombre-imagen)\n",
    "\n",
    "$ docker run -it --rm --name (nombre-contenedor) (nombre-imagen)\n",
    "\n",
    "$ docker run -it -v out-dir:in-dir --name (nombre-contenedor) (nombre-imagen)\n",
    "\n",
    "$ docker run -it -p out-port:in-port --name (nombre-contenedor) (nombre-imagen)\n",
    "\n",
    "```\n"
   ]
  },
  {
   "cell_type": "markdown",
   "metadata": {
    "slideshow": {
     "slide_type": "subslide"
    }
   },
   "source": [
    "## Contenedores\n",
    "\n",
    "- Un contenedor se detiene saliendo de éste si está en modo `attach` (por default)\n",
    "\n",
    "- Para detener un contenedor `detach`(o en Windows)\n",
    "\n",
    "```bash\n",
    "$ docker stop (nombre-contenedor)\n",
    "```\n",
    "\n",
    "- Para regresar a un contenedor detenido\n",
    "\n",
    "```bash\n",
    "$ docker start -ai (nombre-contenedor)\n",
    "```\n",
    "\n",
    "- Para ejecutar un comando en un contenedor no detenido\n",
    "\n",
    "```bash\n",
    "$ docker exec -it (nombre-contenedor) (comando)\n",
    "```\n",
    "\n"
   ]
  },
  {
   "cell_type": "markdown",
   "metadata": {
    "slideshow": {
     "slide_type": "subslide"
    }
   },
   "source": [
    "## Más sobre contenedores\n",
    "\n",
    "- De preferencia no usar contenerdores persistentes\n",
    "\n",
    "- Siempre hay que nombrar los contenedores persistentes\n",
    "\n",
    "- Cada contenedor tiene su información encapsulada\n",
    "\n",
    "- Listar los contenedores\n",
    "\n",
    "```bash\n",
    "$ docker container ls -n 5\n",
    "```\n",
    "\n",
    "- Eliminar un contenedor\n",
    "\n",
    "```bash\n",
    " $ docker container rm (nombre o id)\n",
    "```\n"
   ]
  },
  {
   "cell_type": "markdown",
   "metadata": {
    "slideshow": {
     "slide_type": "subslide"
    }
   },
   "source": [
    "## Hagamos un ejemplo\n",
    "\n",
    "- Buscar para instalar la imagen de *Ubuntu* version 18.04 (bionic)\n",
    "\n",
    "- Si no la tenemos descargarla\n",
    "\n",
    "- Generar un contenedor persistente con los siguientes requisitos:\n",
    "    - Habilitar el puerto 8888 en el puerto 8888 \n",
    "    - Montar una carpeta local (que gustes) en `/root/data` \n",
    "    - Llamar al contenedor `curso-i3`\n",
    "    \n",
    "- Dentro del contenedor instalar librerías con:\n",
    "\n",
    "```bash\n",
    "$ apt-get update\n",
    "$ apt-get install sed grep curl csvkit vim git cowsay unzip unar nano tldr\n",
    "```\n",
    "\n",
    "- Salir del contenedor (`ctrl-D`) y volver a entrar\n",
    "\n"
   ]
  },
  {
   "cell_type": "markdown",
   "metadata": {
    "slideshow": {
     "slide_type": "subslide"
    }
   },
   "source": [
    "## Ahora nos tomaremos una pausa para ir a revisar el uso de la CLI\n",
    "\n",
    "![](https://computernewagedotcom.files.wordpress.com/2019/08/interfaces-usuario.png)"
   ]
  },
  {
   "cell_type": "markdown",
   "metadata": {
    "slideshow": {
     "slide_type": "slide"
    }
   },
   "source": [
    "## Imágenes propias a la medida\n",
    "\n",
    "\n",
    "- Modificando un contenedor y convirtiendolo en imagen\n",
    "\n",
    "- Generando una imágen a partir de otra de base con un `Dockerfile`\n",
    "\n",
    "<img src=\"imagenes/docker_thess.png\" width=\"300\"> \n",
    "\n"
   ]
  },
  {
   "cell_type": "markdown",
   "metadata": {
    "slideshow": {
     "slide_type": "subslide"
    }
   },
   "source": [
    "## Imagen a partir de contenedor\n",
    "\n",
    "- Para contenedores que se desarrolla con root (superusuario)\n",
    "\n",
    "- No es la forma más elegante de generar una imágen\n",
    "\n",
    "- Un vez modificado un contenedor (incluyendo datos de usuario y archivos de configuración)\n",
    "\n",
    "```bash\n",
    "$ docker commit (contenedor) (usuario/imagen)[:tag]\n",
    "``` \n",
    "\n",
    "- y para que alguien más la pueda usar:\n",
    "\n",
    "```bash\n",
    "$ docker push (usuario/imagen)[:tag]\n",
    "``` \n",
    "\n",
    "El usuario es el usuario de *dockerhub*."
   ]
  },
  {
   "cell_type": "markdown",
   "metadata": {
    "slideshow": {
     "slide_type": "subslide"
    }
   },
   "source": [
    "## Generando una imagen con Dockerfile\n",
    "\n",
    "- Script elegante y fácil de seguir\n",
    "\n",
    "- Se basa en una imagen anterior\n",
    "\n",
    "- [Documentación sobre los comandos de Dockerfile](https://kapeli.com/cheat_sheets/Dockerfile.docset/Contents/Resources/Documents/index)\n",
    "\n",
    "- [Una guia para hacer Dockerfiles]\n",
    "\n",
    "- Una vez escrito el script en un archivo `Dockerfile`, y desde el directorio donde se encuentra\n",
    "\n",
    "```bash\n",
    "$ docker build -t (usuario/imagen)[:tag] .\n",
    "``` \n"
   ]
  },
  {
   "cell_type": "markdown",
   "metadata": {
    "slideshow": {
     "slide_type": "subslide"
    }
   },
   "source": [
    "## Dos ejemplos de Dockerfile\n",
    "\n",
    "- Un servidor con *flask* (a partir del ejemplo del tutorial oficial)\n",
    "\n",
    "    - Descarga el [archivo comprimido](https://github.com/mcd-unison/curso-hpcd/raw/main/docker/dockerfiles/ejemplo1.zip)\n",
    "    - Lee los archivos `Dockerfile`, `app.py` y `requirements.txt`\n",
    "    \n",
    "```bash\n",
    "$ docker build -t flask-app .\n",
    "$ docker image ls\n",
    "$ docker run -p 4000:80 flask-app\n",
    "```\n",
    "\n",
    "- Una modificación a la imagen de *jupyter* \n",
    "\n",
    "    - Descarga el [archivo comprimido](https://github.com/mcd-unison/curso-hpcd/raw/main/docker/dockerfiles/ejemplo2.zip)\n",
    "    - Lee los archivos `Dockerfile` y `.vimrc`\n",
    "    \n",
    "```bash\n",
    "$ docker build -t usuario/jupyter-vim:ejemplo .\n",
    "$ docker image ls\n",
    "$ docker run -p 8888:8888 -v $PWD:/home/$NB_USER  --name jpt-vim usuario/jupyter-vim:ejemplo\n",
    "```\n"
   ]
  },
  {
   "cell_type": "markdown",
   "metadata": {
    "slideshow": {
     "slide_type": "slide"
    }
   },
   "source": [
    "# Y esto es todo por el momento con Docker\n",
    "\n",
    "### (pero lo estaremos usando en el resto del curso)\n",
    "\n",
    "\n",
    "![](imagenes/docker-largo.png)"
   ]
  }
 ],
 "metadata": {
  "celltoolbar": "Slideshow",
  "kernelspec": {
   "display_name": "Python 3 (ipykernel)",
   "language": "python",
   "name": "python3"
  },
  "language_info": {
   "codemirror_mode": {
    "name": "ipython",
    "version": 3
   },
   "file_extension": ".py",
   "mimetype": "text/x-python",
   "name": "python",
   "nbconvert_exporter": "python",
   "pygments_lexer": "ipython3",
   "version": "3.8.3"
  }
 },
 "nbformat": 4,
 "nbformat_minor": 2
}
